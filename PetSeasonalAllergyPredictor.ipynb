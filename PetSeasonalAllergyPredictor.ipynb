{
  "nbformat": 4,
  "nbformat_minor": 0,
  "metadata": {
    "colab": {
      "provenance": []
    },
    "kernelspec": {
      "name": "python3",
      "display_name": "Python 3"
    },
    "language_info": {
      "name": "python"
    }
  },
  "cells": [
    {
      "cell_type": "code",
      "source": [
        "!pip install gradio\n",
        "\n",
        "import gradio as gr\n",
        "\n",
        "# Step 1: Function to process form responses\n",
        "def analyze_allergy_form(season, coat, breed, symptoms):\n",
        "    risk_score = 0\n",
        "\n",
        "    # Scoring for season\n",
        "    if season in [\"Spring\", \"Summer\"]:\n",
        "        risk_score += 2\n",
        "    elif season == \"Monsoon\":\n",
        "        risk_score += 1\n",
        "\n",
        "    # Scoring for coat\n",
        "    if coat in [\"Long coat\", \"Allergy-prone\"]:\n",
        "        risk_score += 2\n",
        "\n",
        "    # Scoring for specific allergy-prone breeds\n",
        "    allergy_prone_breeds = [\"German Shepherd\", \"Labrador\", \"Pug\", \"Beagle\"]\n",
        "    if breed in allergy_prone_breeds:\n",
        "        risk_score += 1\n",
        "\n",
        "    # Scoring for symptoms\n",
        "    if symptoms:\n",
        "        risk_score += len(symptoms)\n",
        "\n",
        "    # Determine risk level\n",
        "    if risk_score <= 2:\n",
        "        risk_level = \"Low\"\n",
        "    elif 3 <= risk_score <= 4:\n",
        "        risk_level = \"Medium\"\n",
        "    else:\n",
        "        risk_level = \"High\"\n",
        "\n",
        "    summary = f\"Season: {season}\\nCoat: {coat}\\nBreed: {breed}\\nSymptoms: {', '.join(symptoms) if symptoms else 'None'}\\nPredicted Allergy Risk: {risk_level}\"\n",
        "\n",
        "    return {\"season\": season, \"coat\": coat, \"breed\": breed, \"symptoms\": symptoms, \"risk\": risk_level}, summary\n",
        "\n",
        "\n",
        "# Step 2: Chatbot logic\n",
        "def allergy_chatbot(history, user_input, form_data):\n",
        "    history = history or []\n",
        "    if not form_data:\n",
        "        response = \"Please fill out the Allergy Risk Form first.\"\n",
        "    else:\n",
        "        response = \"\"\n",
        "        # Keyword-based tips\n",
        "        if \"itch\" in user_input.lower():\n",
        "            response = \"🐾 Itching could be due to pollen or dust allergies. Try wiping paws and fur after walks.\"\n",
        "        elif \"sneeze\" in user_input.lower():\n",
        "            response = \"🤧 Sneezing may indicate pollen allergies. Consider indoor play on high pollen days.\"\n",
        "        elif \"lethargy\" in user_input.lower():\n",
        "            response = \"😴 Lethargy can be a sign of seasonal allergy fatigue. Monitor water intake and appetite.\"\n",
        "        else:\n",
        "            response = \"Thanks for sharing! I'll keep that in mind based on the allergy risk.\"\n",
        "\n",
        "        # Vet recommendation based on risk\n",
        "        if form_data[\"risk\"] == \"High\":\n",
        "            response += \"\\n⚠️ Allergy risk is HIGH. Please take your dog to a veterinarian.\"\n",
        "        elif form_data[\"risk\"] == \"Medium\":\n",
        "            response += \"\\n🔍 Allergy risk is MEDIUM. Monitor closely and consult a vet if symptoms worsen.\"\n",
        "        else:\n",
        "            response += \"\\n✅ Allergy risk is LOW. Maintain regular care.\"\n",
        "\n",
        "        # Add form summary\n",
        "        symptoms_str = \", \".join(form_data[\"symptoms\"]) if form_data[\"symptoms\"] else \"None\"\n",
        "        response += f\"\\n\\n📋 [Form Summary]\\nSeason: {form_data['season']}\\nCoat: {form_data['coat']}\\nBreed: {form_data['breed']}\\nSymptoms: {symptoms_str}\\nRisk: {form_data['risk']}\"\n",
        "\n",
        "    history.append((user_input, response))\n",
        "    return history, history\n",
        "\n",
        "\n",
        "# Step 3: Build Gradio UI (keeping same layout)\n",
        "with gr.Blocks(theme=gr.themes.Soft()) as demo:\n",
        "    gr.Markdown(\"<h1 style='text-align:center'>🐶 Pet Seasonal Allergy Predictor</h1>\")\n",
        "\n",
        "    with gr.Tab(\"Allergy Risk Form\"):\n",
        "        season = gr.Dropdown([\"Summer\", \"Monsoon\", \"Winter\", \"Spring\"], label=\"Current Season\")\n",
        "        coat = gr.Dropdown([\"Short coat\", \"Long coat\", \"Allergy-prone\"], label=\"Dog's Coat\")\n",
        "        breed = gr.Dropdown([\"German Shepherd\", \"Labrador\", \"Pug\", \"Golden Retriever\", \"Beagle\", \"Indie\", \"Other\"], label=\"Dog Breed\")\n",
        "        symptoms = gr.CheckboxGroup([\"Itching\", \"Sneezing\", \"Red eyes\", \"Lethargy\", \"Loss of appetite\"], label=\"Observed Symptoms\")\n",
        "\n",
        "        form_output_data = gr.State()\n",
        "        form_output_text = gr.Textbox(label=\"Allergy Risk Prediction\")\n",
        "        form_btn = gr.Button(\"Analyze Risk\")\n",
        "        form_btn.click(analyze_allergy_form, inputs=[season, coat, breed, symptoms], outputs=[form_output_data, form_output_text])\n",
        "\n",
        "    with gr.Tab(\"Pet Behaviour Chatbot\"):\n",
        "        chatbot = gr.Chatbot()\n",
        "        state = gr.State()\n",
        "        chat_input = gr.Textbox(label=\"Describe your pet's behaviour\")\n",
        "        send_btn = gr.Button(\"Send\")\n",
        "        send_btn.click(allergy_chatbot, inputs=[state, chat_input, form_output_data], outputs=[chatbot, state])\n",
        "\n",
        "demo.launch(share=True)\n"
      ],
      "metadata": {
        "colab": {
          "base_uri": "https://localhost:8080/",
          "height": 1000
        },
        "id": "euRkmlFVDwgo",
        "outputId": "316e6e2b-0d24-40b1-9793-05a7afa7196b"
      },
      "execution_count": 10,
      "outputs": [
        {
          "output_type": "stream",
          "name": "stdout",
          "text": [
            "Requirement already satisfied: gradio in /usr/local/lib/python3.11/dist-packages (5.41.0)\n",
            "Requirement already satisfied: aiofiles<25.0,>=22.0 in /usr/local/lib/python3.11/dist-packages (from gradio) (24.1.0)\n",
            "Requirement already satisfied: anyio<5.0,>=3.0 in /usr/local/lib/python3.11/dist-packages (from gradio) (4.10.0)\n",
            "Requirement already satisfied: brotli>=1.1.0 in /usr/local/lib/python3.11/dist-packages (from gradio) (1.1.0)\n",
            "Requirement already satisfied: fastapi<1.0,>=0.115.2 in /usr/local/lib/python3.11/dist-packages (from gradio) (0.116.1)\n",
            "Requirement already satisfied: ffmpy in /usr/local/lib/python3.11/dist-packages (from gradio) (0.6.1)\n",
            "Requirement already satisfied: gradio-client==1.11.0 in /usr/local/lib/python3.11/dist-packages (from gradio) (1.11.0)\n",
            "Requirement already satisfied: groovy~=0.1 in /usr/local/lib/python3.11/dist-packages (from gradio) (0.1.2)\n",
            "Requirement already satisfied: httpx<1.0,>=0.24.1 in /usr/local/lib/python3.11/dist-packages (from gradio) (0.28.1)\n",
            "Requirement already satisfied: huggingface-hub<1.0,>=0.33.5 in /usr/local/lib/python3.11/dist-packages (from gradio) (0.34.3)\n",
            "Requirement already satisfied: jinja2<4.0 in /usr/local/lib/python3.11/dist-packages (from gradio) (3.1.6)\n",
            "Requirement already satisfied: markupsafe<4.0,>=2.0 in /usr/local/lib/python3.11/dist-packages (from gradio) (3.0.2)\n",
            "Requirement already satisfied: numpy<3.0,>=1.0 in /usr/local/lib/python3.11/dist-packages (from gradio) (2.0.2)\n",
            "Requirement already satisfied: orjson~=3.0 in /usr/local/lib/python3.11/dist-packages (from gradio) (3.11.1)\n",
            "Requirement already satisfied: packaging in /usr/local/lib/python3.11/dist-packages (from gradio) (25.0)\n",
            "Requirement already satisfied: pandas<3.0,>=1.0 in /usr/local/lib/python3.11/dist-packages (from gradio) (2.2.2)\n",
            "Requirement already satisfied: pillow<12.0,>=8.0 in /usr/local/lib/python3.11/dist-packages (from gradio) (11.3.0)\n",
            "Requirement already satisfied: pydantic<2.12,>=2.0 in /usr/local/lib/python3.11/dist-packages (from gradio) (2.11.7)\n",
            "Requirement already satisfied: pydub in /usr/local/lib/python3.11/dist-packages (from gradio) (0.25.1)\n",
            "Requirement already satisfied: python-multipart>=0.0.18 in /usr/local/lib/python3.11/dist-packages (from gradio) (0.0.20)\n",
            "Requirement already satisfied: pyyaml<7.0,>=5.0 in /usr/local/lib/python3.11/dist-packages (from gradio) (6.0.2)\n",
            "Requirement already satisfied: ruff>=0.9.3 in /usr/local/lib/python3.11/dist-packages (from gradio) (0.12.7)\n",
            "Requirement already satisfied: safehttpx<0.2.0,>=0.1.6 in /usr/local/lib/python3.11/dist-packages (from gradio) (0.1.6)\n",
            "Requirement already satisfied: semantic-version~=2.0 in /usr/local/lib/python3.11/dist-packages (from gradio) (2.10.0)\n",
            "Requirement already satisfied: starlette<1.0,>=0.40.0 in /usr/local/lib/python3.11/dist-packages (from gradio) (0.47.2)\n",
            "Requirement already satisfied: tomlkit<0.14.0,>=0.12.0 in /usr/local/lib/python3.11/dist-packages (from gradio) (0.13.3)\n",
            "Requirement already satisfied: typer<1.0,>=0.12 in /usr/local/lib/python3.11/dist-packages (from gradio) (0.16.0)\n",
            "Requirement already satisfied: typing-extensions~=4.0 in /usr/local/lib/python3.11/dist-packages (from gradio) (4.14.1)\n",
            "Requirement already satisfied: uvicorn>=0.14.0 in /usr/local/lib/python3.11/dist-packages (from gradio) (0.35.0)\n",
            "Requirement already satisfied: fsspec in /usr/local/lib/python3.11/dist-packages (from gradio-client==1.11.0->gradio) (2025.3.0)\n",
            "Requirement already satisfied: websockets<16.0,>=10.0 in /usr/local/lib/python3.11/dist-packages (from gradio-client==1.11.0->gradio) (15.0.1)\n",
            "Requirement already satisfied: idna>=2.8 in /usr/local/lib/python3.11/dist-packages (from anyio<5.0,>=3.0->gradio) (3.10)\n",
            "Requirement already satisfied: sniffio>=1.1 in /usr/local/lib/python3.11/dist-packages (from anyio<5.0,>=3.0->gradio) (1.3.1)\n",
            "Requirement already satisfied: certifi in /usr/local/lib/python3.11/dist-packages (from httpx<1.0,>=0.24.1->gradio) (2025.8.3)\n",
            "Requirement already satisfied: httpcore==1.* in /usr/local/lib/python3.11/dist-packages (from httpx<1.0,>=0.24.1->gradio) (1.0.9)\n",
            "Requirement already satisfied: h11>=0.16 in /usr/local/lib/python3.11/dist-packages (from httpcore==1.*->httpx<1.0,>=0.24.1->gradio) (0.16.0)\n",
            "Requirement already satisfied: filelock in /usr/local/lib/python3.11/dist-packages (from huggingface-hub<1.0,>=0.33.5->gradio) (3.18.0)\n",
            "Requirement already satisfied: requests in /usr/local/lib/python3.11/dist-packages (from huggingface-hub<1.0,>=0.33.5->gradio) (2.32.3)\n",
            "Requirement already satisfied: tqdm>=4.42.1 in /usr/local/lib/python3.11/dist-packages (from huggingface-hub<1.0,>=0.33.5->gradio) (4.67.1)\n",
            "Requirement already satisfied: hf-xet<2.0.0,>=1.1.3 in /usr/local/lib/python3.11/dist-packages (from huggingface-hub<1.0,>=0.33.5->gradio) (1.1.7)\n",
            "Requirement already satisfied: python-dateutil>=2.8.2 in /usr/local/lib/python3.11/dist-packages (from pandas<3.0,>=1.0->gradio) (2.9.0.post0)\n",
            "Requirement already satisfied: pytz>=2020.1 in /usr/local/lib/python3.11/dist-packages (from pandas<3.0,>=1.0->gradio) (2025.2)\n",
            "Requirement already satisfied: tzdata>=2022.7 in /usr/local/lib/python3.11/dist-packages (from pandas<3.0,>=1.0->gradio) (2025.2)\n",
            "Requirement already satisfied: annotated-types>=0.6.0 in /usr/local/lib/python3.11/dist-packages (from pydantic<2.12,>=2.0->gradio) (0.7.0)\n",
            "Requirement already satisfied: pydantic-core==2.33.2 in /usr/local/lib/python3.11/dist-packages (from pydantic<2.12,>=2.0->gradio) (2.33.2)\n",
            "Requirement already satisfied: typing-inspection>=0.4.0 in /usr/local/lib/python3.11/dist-packages (from pydantic<2.12,>=2.0->gradio) (0.4.1)\n",
            "Requirement already satisfied: click>=8.0.0 in /usr/local/lib/python3.11/dist-packages (from typer<1.0,>=0.12->gradio) (8.2.1)\n",
            "Requirement already satisfied: shellingham>=1.3.0 in /usr/local/lib/python3.11/dist-packages (from typer<1.0,>=0.12->gradio) (1.5.4)\n",
            "Requirement already satisfied: rich>=10.11.0 in /usr/local/lib/python3.11/dist-packages (from typer<1.0,>=0.12->gradio) (13.9.4)\n",
            "Requirement already satisfied: six>=1.5 in /usr/local/lib/python3.11/dist-packages (from python-dateutil>=2.8.2->pandas<3.0,>=1.0->gradio) (1.17.0)\n",
            "Requirement already satisfied: markdown-it-py>=2.2.0 in /usr/local/lib/python3.11/dist-packages (from rich>=10.11.0->typer<1.0,>=0.12->gradio) (3.0.0)\n",
            "Requirement already satisfied: pygments<3.0.0,>=2.13.0 in /usr/local/lib/python3.11/dist-packages (from rich>=10.11.0->typer<1.0,>=0.12->gradio) (2.19.2)\n",
            "Requirement already satisfied: charset-normalizer<4,>=2 in /usr/local/lib/python3.11/dist-packages (from requests->huggingface-hub<1.0,>=0.33.5->gradio) (3.4.2)\n",
            "Requirement already satisfied: urllib3<3,>=1.21.1 in /usr/local/lib/python3.11/dist-packages (from requests->huggingface-hub<1.0,>=0.33.5->gradio) (2.5.0)\n",
            "Requirement already satisfied: mdurl~=0.1 in /usr/local/lib/python3.11/dist-packages (from markdown-it-py>=2.2.0->rich>=10.11.0->typer<1.0,>=0.12->gradio) (0.1.2)\n"
          ]
        },
        {
          "output_type": "stream",
          "name": "stderr",
          "text": [
            "/tmp/ipython-input-726074343.py:90: UserWarning: You have not specified a value for the `type` parameter. Defaulting to the 'tuples' format for chatbot messages, but this is deprecated and will be removed in a future version of Gradio. Please set type='messages' instead, which uses openai-style dictionaries with 'role' and 'content' keys.\n",
            "  chatbot = gr.Chatbot()\n"
          ]
        },
        {
          "output_type": "stream",
          "name": "stdout",
          "text": [
            "Colab notebook detected. To show errors in colab notebook, set debug=True in launch()\n",
            "* Running on public URL: https://a90977397d66bd7779.gradio.live\n",
            "\n",
            "This share link expires in 1 week. For free permanent hosting and GPU upgrades, run `gradio deploy` from the terminal in the working directory to deploy to Hugging Face Spaces (https://huggingface.co/spaces)\n"
          ]
        },
        {
          "output_type": "display_data",
          "data": {
            "text/plain": [
              "<IPython.core.display.HTML object>"
            ],
            "text/html": [
              "<div><iframe src=\"https://a90977397d66bd7779.gradio.live\" width=\"100%\" height=\"500\" allow=\"autoplay; camera; microphone; clipboard-read; clipboard-write;\" frameborder=\"0\" allowfullscreen></iframe></div>"
            ]
          },
          "metadata": {}
        },
        {
          "output_type": "execute_result",
          "data": {
            "text/plain": []
          },
          "metadata": {},
          "execution_count": 10
        }
      ]
    }
  ]
}